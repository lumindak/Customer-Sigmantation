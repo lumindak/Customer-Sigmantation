{
 "cells": [
  {
   "cell_type": "code",
   "execution_count": 1,
   "metadata": {},
   "outputs": [],
   "source": [
    "import pandas as pd"
   ]
  },
  {
   "cell_type": "code",
   "execution_count": 2,
   "metadata": {},
   "outputs": [],
   "source": [
    "#File is too large. Limited no. of. rows are read\n",
    "df = pd.read_csv('OnlineRetail.csv',nrows = 10000)"
   ]
  },
  {
   "cell_type": "code",
   "execution_count": 3,
   "metadata": {},
   "outputs": [
    {
     "data": {
      "text/html": [
       "<div>\n",
       "<style scoped>\n",
       "    .dataframe tbody tr th:only-of-type {\n",
       "        vertical-align: middle;\n",
       "    }\n",
       "\n",
       "    .dataframe tbody tr th {\n",
       "        vertical-align: top;\n",
       "    }\n",
       "\n",
       "    .dataframe thead th {\n",
       "        text-align: right;\n",
       "    }\n",
       "</style>\n",
       "<table border=\"1\" class=\"dataframe\">\n",
       "  <thead>\n",
       "    <tr style=\"text-align: right;\">\n",
       "      <th></th>\n",
       "      <th>InvoiceNo</th>\n",
       "      <th>StockCode</th>\n",
       "      <th>Description</th>\n",
       "      <th>Quantity</th>\n",
       "      <th>InvoiceDate</th>\n",
       "      <th>UnitPrice</th>\n",
       "      <th>CustomerID</th>\n",
       "      <th>Country</th>\n",
       "    </tr>\n",
       "  </thead>\n",
       "  <tbody>\n",
       "    <tr>\n",
       "      <th>0</th>\n",
       "      <td>536365</td>\n",
       "      <td>85123A</td>\n",
       "      <td>WHITE HANGING HEART T-LIGHT HOLDER</td>\n",
       "      <td>6</td>\n",
       "      <td>12/1/2010 8:26</td>\n",
       "      <td>2.55</td>\n",
       "      <td>17850.0</td>\n",
       "      <td>United Kingdom</td>\n",
       "    </tr>\n",
       "    <tr>\n",
       "      <th>1</th>\n",
       "      <td>536365</td>\n",
       "      <td>71053</td>\n",
       "      <td>WHITE METAL LANTERN</td>\n",
       "      <td>6</td>\n",
       "      <td>12/1/2010 8:26</td>\n",
       "      <td>3.39</td>\n",
       "      <td>17850.0</td>\n",
       "      <td>United Kingdom</td>\n",
       "    </tr>\n",
       "    <tr>\n",
       "      <th>2</th>\n",
       "      <td>536365</td>\n",
       "      <td>84406B</td>\n",
       "      <td>CREAM CUPID HEARTS COAT HANGER</td>\n",
       "      <td>8</td>\n",
       "      <td>12/1/2010 8:26</td>\n",
       "      <td>2.75</td>\n",
       "      <td>17850.0</td>\n",
       "      <td>United Kingdom</td>\n",
       "    </tr>\n",
       "    <tr>\n",
       "      <th>3</th>\n",
       "      <td>536365</td>\n",
       "      <td>84029G</td>\n",
       "      <td>KNITTED UNION FLAG HOT WATER BOTTLE</td>\n",
       "      <td>6</td>\n",
       "      <td>12/1/2010 8:26</td>\n",
       "      <td>3.39</td>\n",
       "      <td>17850.0</td>\n",
       "      <td>United Kingdom</td>\n",
       "    </tr>\n",
       "    <tr>\n",
       "      <th>4</th>\n",
       "      <td>536365</td>\n",
       "      <td>84029E</td>\n",
       "      <td>RED WOOLLY HOTTIE WHITE HEART.</td>\n",
       "      <td>6</td>\n",
       "      <td>12/1/2010 8:26</td>\n",
       "      <td>3.39</td>\n",
       "      <td>17850.0</td>\n",
       "      <td>United Kingdom</td>\n",
       "    </tr>\n",
       "    <tr>\n",
       "      <th>...</th>\n",
       "      <td>...</td>\n",
       "      <td>...</td>\n",
       "      <td>...</td>\n",
       "      <td>...</td>\n",
       "      <td>...</td>\n",
       "      <td>...</td>\n",
       "      <td>...</td>\n",
       "      <td>...</td>\n",
       "    </tr>\n",
       "    <tr>\n",
       "      <th>9995</th>\n",
       "      <td>537224</td>\n",
       "      <td>22622</td>\n",
       "      <td>BOX OF VINTAGE ALPHABET BLOCKS</td>\n",
       "      <td>2</td>\n",
       "      <td>12/5/2010 16:24</td>\n",
       "      <td>9.95</td>\n",
       "      <td>13174.0</td>\n",
       "      <td>United Kingdom</td>\n",
       "    </tr>\n",
       "    <tr>\n",
       "      <th>9996</th>\n",
       "      <td>537224</td>\n",
       "      <td>22623</td>\n",
       "      <td>BOX OF VINTAGE JIGSAW BLOCKS</td>\n",
       "      <td>2</td>\n",
       "      <td>12/5/2010 16:24</td>\n",
       "      <td>4.95</td>\n",
       "      <td>13174.0</td>\n",
       "      <td>United Kingdom</td>\n",
       "    </tr>\n",
       "    <tr>\n",
       "      <th>9997</th>\n",
       "      <td>537224</td>\n",
       "      <td>21363</td>\n",
       "      <td>HOME SMALL WOOD LETTERS</td>\n",
       "      <td>2</td>\n",
       "      <td>12/5/2010 16:24</td>\n",
       "      <td>4.95</td>\n",
       "      <td>13174.0</td>\n",
       "      <td>United Kingdom</td>\n",
       "    </tr>\n",
       "    <tr>\n",
       "      <th>9998</th>\n",
       "      <td>537224</td>\n",
       "      <td>21556</td>\n",
       "      <td>CERAMIC STRAWBERRY MONEY BOX</td>\n",
       "      <td>2</td>\n",
       "      <td>12/5/2010 16:24</td>\n",
       "      <td>2.55</td>\n",
       "      <td>13174.0</td>\n",
       "      <td>United Kingdom</td>\n",
       "    </tr>\n",
       "    <tr>\n",
       "      <th>9999</th>\n",
       "      <td>537224</td>\n",
       "      <td>22497</td>\n",
       "      <td>SET OF 2 TINS VINTAGE BATHROOM</td>\n",
       "      <td>2</td>\n",
       "      <td>12/5/2010 16:24</td>\n",
       "      <td>4.25</td>\n",
       "      <td>13174.0</td>\n",
       "      <td>United Kingdom</td>\n",
       "    </tr>\n",
       "  </tbody>\n",
       "</table>\n",
       "<p>10000 rows × 8 columns</p>\n",
       "</div>"
      ],
      "text/plain": [
       "     InvoiceNo StockCode                          Description  Quantity  \\\n",
       "0       536365    85123A   WHITE HANGING HEART T-LIGHT HOLDER         6   \n",
       "1       536365     71053                  WHITE METAL LANTERN         6   \n",
       "2       536365    84406B       CREAM CUPID HEARTS COAT HANGER         8   \n",
       "3       536365    84029G  KNITTED UNION FLAG HOT WATER BOTTLE         6   \n",
       "4       536365    84029E       RED WOOLLY HOTTIE WHITE HEART.         6   \n",
       "...        ...       ...                                  ...       ...   \n",
       "9995    537224     22622       BOX OF VINTAGE ALPHABET BLOCKS         2   \n",
       "9996    537224     22623        BOX OF VINTAGE JIGSAW BLOCKS          2   \n",
       "9997    537224     21363              HOME SMALL WOOD LETTERS         2   \n",
       "9998    537224     21556         CERAMIC STRAWBERRY MONEY BOX         2   \n",
       "9999    537224     22497      SET OF 2 TINS VINTAGE BATHROOM          2   \n",
       "\n",
       "          InvoiceDate  UnitPrice  CustomerID         Country  \n",
       "0      12/1/2010 8:26       2.55     17850.0  United Kingdom  \n",
       "1      12/1/2010 8:26       3.39     17850.0  United Kingdom  \n",
       "2      12/1/2010 8:26       2.75     17850.0  United Kingdom  \n",
       "3      12/1/2010 8:26       3.39     17850.0  United Kingdom  \n",
       "4      12/1/2010 8:26       3.39     17850.0  United Kingdom  \n",
       "...               ...        ...         ...             ...  \n",
       "9995  12/5/2010 16:24       9.95     13174.0  United Kingdom  \n",
       "9996  12/5/2010 16:24       4.95     13174.0  United Kingdom  \n",
       "9997  12/5/2010 16:24       4.95     13174.0  United Kingdom  \n",
       "9998  12/5/2010 16:24       2.55     13174.0  United Kingdom  \n",
       "9999  12/5/2010 16:24       4.25     13174.0  United Kingdom  \n",
       "\n",
       "[10000 rows x 8 columns]"
      ]
     },
     "execution_count": 3,
     "metadata": {},
     "output_type": "execute_result"
    }
   ],
   "source": [
    "df"
   ]
  },
  {
   "cell_type": "markdown",
   "metadata": {},
   "source": [
    "RFM (Recency, Frequency and Monetary) segmentation allows marketers to \n",
    "target specific clusters of customers \n",
    "with communications that are much more relevant for their particular behavior \n",
    "– and thus generate much higher rates of response, plus increased loyalty and\n",
    "customer lifetime value. Like other segmentation methods, RFM segmentation is \n",
    "a powerful way to identify groups of customers for special treatment. \n",
    "RFM stands for recency, frequency and monetary – more about each of these shortly.\n",
    "\n",
    "ref:https://www.optimove.com/resources/learning-center/rfm-segmentation"
   ]
  },
  {
   "cell_type": "code",
   "execution_count": 4,
   "metadata": {},
   "outputs": [],
   "source": [
    "import datetime\n",
    "df['InvoiceDate']= pd.to_datetime(df['InvoiceDate']).apply(lambda x: x.date())\n",
    "#df['recent_date'] = df.groupby(by='CustomerID').max()['InvoiceDate']\n",
    "max_date = df['InvoiceDate'].max()\n",
    "df['dates']= pd.to_numeric((max_date+datetime.timedelta(days=1)-df['InvoiceDate']).dt.days,\n",
    "                           downcast='integer')\n",
    "df['total']= df['Quantity']*df['UnitPrice']"
   ]
  },
  {
   "cell_type": "code",
   "execution_count": 5,
   "metadata": {},
   "outputs": [
    {
     "data": {
      "text/html": [
       "<div>\n",
       "<style scoped>\n",
       "    .dataframe tbody tr th:only-of-type {\n",
       "        vertical-align: middle;\n",
       "    }\n",
       "\n",
       "    .dataframe tbody tr th {\n",
       "        vertical-align: top;\n",
       "    }\n",
       "\n",
       "    .dataframe thead th {\n",
       "        text-align: right;\n",
       "    }\n",
       "</style>\n",
       "<table border=\"1\" class=\"dataframe\">\n",
       "  <thead>\n",
       "    <tr style=\"text-align: right;\">\n",
       "      <th></th>\n",
       "      <th>InvoiceNo</th>\n",
       "      <th>StockCode</th>\n",
       "      <th>Description</th>\n",
       "      <th>Quantity</th>\n",
       "      <th>InvoiceDate</th>\n",
       "      <th>UnitPrice</th>\n",
       "      <th>CustomerID</th>\n",
       "      <th>Country</th>\n",
       "      <th>dates</th>\n",
       "      <th>total</th>\n",
       "    </tr>\n",
       "  </thead>\n",
       "  <tbody>\n",
       "    <tr>\n",
       "      <th>0</th>\n",
       "      <td>536365</td>\n",
       "      <td>85123A</td>\n",
       "      <td>WHITE HANGING HEART T-LIGHT HOLDER</td>\n",
       "      <td>6</td>\n",
       "      <td>2010-12-01</td>\n",
       "      <td>2.55</td>\n",
       "      <td>17850.0</td>\n",
       "      <td>United Kingdom</td>\n",
       "      <td>5</td>\n",
       "      <td>15.30</td>\n",
       "    </tr>\n",
       "    <tr>\n",
       "      <th>1</th>\n",
       "      <td>536365</td>\n",
       "      <td>71053</td>\n",
       "      <td>WHITE METAL LANTERN</td>\n",
       "      <td>6</td>\n",
       "      <td>2010-12-01</td>\n",
       "      <td>3.39</td>\n",
       "      <td>17850.0</td>\n",
       "      <td>United Kingdom</td>\n",
       "      <td>5</td>\n",
       "      <td>20.34</td>\n",
       "    </tr>\n",
       "    <tr>\n",
       "      <th>2</th>\n",
       "      <td>536365</td>\n",
       "      <td>84406B</td>\n",
       "      <td>CREAM CUPID HEARTS COAT HANGER</td>\n",
       "      <td>8</td>\n",
       "      <td>2010-12-01</td>\n",
       "      <td>2.75</td>\n",
       "      <td>17850.0</td>\n",
       "      <td>United Kingdom</td>\n",
       "      <td>5</td>\n",
       "      <td>22.00</td>\n",
       "    </tr>\n",
       "    <tr>\n",
       "      <th>3</th>\n",
       "      <td>536365</td>\n",
       "      <td>84029G</td>\n",
       "      <td>KNITTED UNION FLAG HOT WATER BOTTLE</td>\n",
       "      <td>6</td>\n",
       "      <td>2010-12-01</td>\n",
       "      <td>3.39</td>\n",
       "      <td>17850.0</td>\n",
       "      <td>United Kingdom</td>\n",
       "      <td>5</td>\n",
       "      <td>20.34</td>\n",
       "    </tr>\n",
       "    <tr>\n",
       "      <th>4</th>\n",
       "      <td>536365</td>\n",
       "      <td>84029E</td>\n",
       "      <td>RED WOOLLY HOTTIE WHITE HEART.</td>\n",
       "      <td>6</td>\n",
       "      <td>2010-12-01</td>\n",
       "      <td>3.39</td>\n",
       "      <td>17850.0</td>\n",
       "      <td>United Kingdom</td>\n",
       "      <td>5</td>\n",
       "      <td>20.34</td>\n",
       "    </tr>\n",
       "    <tr>\n",
       "      <th>...</th>\n",
       "      <td>...</td>\n",
       "      <td>...</td>\n",
       "      <td>...</td>\n",
       "      <td>...</td>\n",
       "      <td>...</td>\n",
       "      <td>...</td>\n",
       "      <td>...</td>\n",
       "      <td>...</td>\n",
       "      <td>...</td>\n",
       "      <td>...</td>\n",
       "    </tr>\n",
       "    <tr>\n",
       "      <th>9995</th>\n",
       "      <td>537224</td>\n",
       "      <td>22622</td>\n",
       "      <td>BOX OF VINTAGE ALPHABET BLOCKS</td>\n",
       "      <td>2</td>\n",
       "      <td>2010-12-05</td>\n",
       "      <td>9.95</td>\n",
       "      <td>13174.0</td>\n",
       "      <td>United Kingdom</td>\n",
       "      <td>1</td>\n",
       "      <td>19.90</td>\n",
       "    </tr>\n",
       "    <tr>\n",
       "      <th>9996</th>\n",
       "      <td>537224</td>\n",
       "      <td>22623</td>\n",
       "      <td>BOX OF VINTAGE JIGSAW BLOCKS</td>\n",
       "      <td>2</td>\n",
       "      <td>2010-12-05</td>\n",
       "      <td>4.95</td>\n",
       "      <td>13174.0</td>\n",
       "      <td>United Kingdom</td>\n",
       "      <td>1</td>\n",
       "      <td>9.90</td>\n",
       "    </tr>\n",
       "    <tr>\n",
       "      <th>9997</th>\n",
       "      <td>537224</td>\n",
       "      <td>21363</td>\n",
       "      <td>HOME SMALL WOOD LETTERS</td>\n",
       "      <td>2</td>\n",
       "      <td>2010-12-05</td>\n",
       "      <td>4.95</td>\n",
       "      <td>13174.0</td>\n",
       "      <td>United Kingdom</td>\n",
       "      <td>1</td>\n",
       "      <td>9.90</td>\n",
       "    </tr>\n",
       "    <tr>\n",
       "      <th>9998</th>\n",
       "      <td>537224</td>\n",
       "      <td>21556</td>\n",
       "      <td>CERAMIC STRAWBERRY MONEY BOX</td>\n",
       "      <td>2</td>\n",
       "      <td>2010-12-05</td>\n",
       "      <td>2.55</td>\n",
       "      <td>13174.0</td>\n",
       "      <td>United Kingdom</td>\n",
       "      <td>1</td>\n",
       "      <td>5.10</td>\n",
       "    </tr>\n",
       "    <tr>\n",
       "      <th>9999</th>\n",
       "      <td>537224</td>\n",
       "      <td>22497</td>\n",
       "      <td>SET OF 2 TINS VINTAGE BATHROOM</td>\n",
       "      <td>2</td>\n",
       "      <td>2010-12-05</td>\n",
       "      <td>4.25</td>\n",
       "      <td>13174.0</td>\n",
       "      <td>United Kingdom</td>\n",
       "      <td>1</td>\n",
       "      <td>8.50</td>\n",
       "    </tr>\n",
       "  </tbody>\n",
       "</table>\n",
       "<p>10000 rows × 10 columns</p>\n",
       "</div>"
      ],
      "text/plain": [
       "     InvoiceNo StockCode                          Description  Quantity  \\\n",
       "0       536365    85123A   WHITE HANGING HEART T-LIGHT HOLDER         6   \n",
       "1       536365     71053                  WHITE METAL LANTERN         6   \n",
       "2       536365    84406B       CREAM CUPID HEARTS COAT HANGER         8   \n",
       "3       536365    84029G  KNITTED UNION FLAG HOT WATER BOTTLE         6   \n",
       "4       536365    84029E       RED WOOLLY HOTTIE WHITE HEART.         6   \n",
       "...        ...       ...                                  ...       ...   \n",
       "9995    537224     22622       BOX OF VINTAGE ALPHABET BLOCKS         2   \n",
       "9996    537224     22623        BOX OF VINTAGE JIGSAW BLOCKS          2   \n",
       "9997    537224     21363              HOME SMALL WOOD LETTERS         2   \n",
       "9998    537224     21556         CERAMIC STRAWBERRY MONEY BOX         2   \n",
       "9999    537224     22497      SET OF 2 TINS VINTAGE BATHROOM          2   \n",
       "\n",
       "     InvoiceDate  UnitPrice  CustomerID         Country  dates  total  \n",
       "0     2010-12-01       2.55     17850.0  United Kingdom      5  15.30  \n",
       "1     2010-12-01       3.39     17850.0  United Kingdom      5  20.34  \n",
       "2     2010-12-01       2.75     17850.0  United Kingdom      5  22.00  \n",
       "3     2010-12-01       3.39     17850.0  United Kingdom      5  20.34  \n",
       "4     2010-12-01       3.39     17850.0  United Kingdom      5  20.34  \n",
       "...          ...        ...         ...             ...    ...    ...  \n",
       "9995  2010-12-05       9.95     13174.0  United Kingdom      1  19.90  \n",
       "9996  2010-12-05       4.95     13174.0  United Kingdom      1   9.90  \n",
       "9997  2010-12-05       4.95     13174.0  United Kingdom      1   9.90  \n",
       "9998  2010-12-05       2.55     13174.0  United Kingdom      1   5.10  \n",
       "9999  2010-12-05       4.25     13174.0  United Kingdom      1   8.50  \n",
       "\n",
       "[10000 rows x 10 columns]"
      ]
     },
     "execution_count": 5,
     "metadata": {},
     "output_type": "execute_result"
    }
   ],
   "source": [
    "df"
   ]
  },
  {
   "cell_type": "code",
   "execution_count": 6,
   "metadata": {},
   "outputs": [],
   "source": [
    "df_new = df.groupby(by='CustomerID').agg({\n",
    "    'dates':'min','InvoiceNo':'count', 'total':'sum'})"
   ]
  },
  {
   "cell_type": "code",
   "execution_count": 7,
   "metadata": {},
   "outputs": [
    {
     "data": {
      "text/html": [
       "<div>\n",
       "<style scoped>\n",
       "    .dataframe tbody tr th:only-of-type {\n",
       "        vertical-align: middle;\n",
       "    }\n",
       "\n",
       "    .dataframe tbody tr th {\n",
       "        vertical-align: top;\n",
       "    }\n",
       "\n",
       "    .dataframe thead th {\n",
       "        text-align: right;\n",
       "    }\n",
       "</style>\n",
       "<table border=\"1\" class=\"dataframe\">\n",
       "  <thead>\n",
       "    <tr style=\"text-align: right;\">\n",
       "      <th></th>\n",
       "      <th>Recency</th>\n",
       "      <th>Frequency</th>\n",
       "      <th>Monetary</th>\n",
       "    </tr>\n",
       "    <tr>\n",
       "      <th>CustomerID</th>\n",
       "      <th></th>\n",
       "      <th></th>\n",
       "      <th></th>\n",
       "    </tr>\n",
       "  </thead>\n",
       "  <tbody>\n",
       "    <tr>\n",
       "      <th>12395.0</th>\n",
       "      <td>3</td>\n",
       "      <td>12</td>\n",
       "      <td>346.10</td>\n",
       "    </tr>\n",
       "    <tr>\n",
       "      <th>12427.0</th>\n",
       "      <td>3</td>\n",
       "      <td>10</td>\n",
       "      <td>303.50</td>\n",
       "    </tr>\n",
       "    <tr>\n",
       "      <th>12431.0</th>\n",
       "      <td>5</td>\n",
       "      <td>14</td>\n",
       "      <td>358.25</td>\n",
       "    </tr>\n",
       "    <tr>\n",
       "      <th>12433.0</th>\n",
       "      <td>5</td>\n",
       "      <td>73</td>\n",
       "      <td>1919.14</td>\n",
       "    </tr>\n",
       "    <tr>\n",
       "      <th>12471.0</th>\n",
       "      <td>4</td>\n",
       "      <td>1</td>\n",
       "      <td>-17.00</td>\n",
       "    </tr>\n",
       "    <tr>\n",
       "      <th>...</th>\n",
       "      <td>...</td>\n",
       "      <td>...</td>\n",
       "      <td>...</td>\n",
       "    </tr>\n",
       "    <tr>\n",
       "      <th>18156.0</th>\n",
       "      <td>1</td>\n",
       "      <td>55</td>\n",
       "      <td>206.23</td>\n",
       "    </tr>\n",
       "    <tr>\n",
       "      <th>18168.0</th>\n",
       "      <td>4</td>\n",
       "      <td>31</td>\n",
       "      <td>246.35</td>\n",
       "    </tr>\n",
       "    <tr>\n",
       "      <th>18225.0</th>\n",
       "      <td>3</td>\n",
       "      <td>1</td>\n",
       "      <td>-31.80</td>\n",
       "    </tr>\n",
       "    <tr>\n",
       "      <th>18229.0</th>\n",
       "      <td>5</td>\n",
       "      <td>7</td>\n",
       "      <td>344.20</td>\n",
       "    </tr>\n",
       "    <tr>\n",
       "      <th>18239.0</th>\n",
       "      <td>4</td>\n",
       "      <td>29</td>\n",
       "      <td>438.10</td>\n",
       "    </tr>\n",
       "  </tbody>\n",
       "</table>\n",
       "<p>323 rows × 3 columns</p>\n",
       "</div>"
      ],
      "text/plain": [
       "            Recency  Frequency  Monetary\n",
       "CustomerID                              \n",
       "12395.0           3         12    346.10\n",
       "12427.0           3         10    303.50\n",
       "12431.0           5         14    358.25\n",
       "12433.0           5         73   1919.14\n",
       "12471.0           4          1    -17.00\n",
       "...             ...        ...       ...\n",
       "18156.0           1         55    206.23\n",
       "18168.0           4         31    246.35\n",
       "18225.0           3          1    -31.80\n",
       "18229.0           5          7    344.20\n",
       "18239.0           4         29    438.10\n",
       "\n",
       "[323 rows x 3 columns]"
      ]
     },
     "execution_count": 7,
     "metadata": {},
     "output_type": "execute_result"
    }
   ],
   "source": [
    "df_new.columns = ['Recency','Frequency', \"Monetary\"]\n",
    "df_new"
   ]
  },
  {
   "cell_type": "code",
   "execution_count": 8,
   "metadata": {},
   "outputs": [
    {
     "data": {
      "text/plain": [
       "(array([ 76.,   0.,  54., 111.,  82.]),\n",
       " array([1. , 1.8, 2.6, 3.4, 4.2, 5. ]),\n",
       " <BarContainer object of 5 artists>)"
      ]
     },
     "execution_count": 8,
     "metadata": {},
     "output_type": "execute_result"
    },
    {
     "data": {
      "image/png": "[encoded data removed]",
      "text/plain": [
       "<Figure size 432x288 with 1 Axes>"
      ]
     },
     "metadata": {
      "needs_background": "light"
     },
     "output_type": "display_data"
    }
   ],
   "source": [
    "#plot data\n",
    "import matplotlib.pyplot as plt\n",
    "plt.hist(df_new['Recency'],5,align='mid')"
   ]
  },
  {
   "cell_type": "code",
   "execution_count": 9,
   "metadata": {},
   "outputs": [
    {
     "data": {
      "text/plain": [
       "4    111\n",
       "5     82\n",
       "1     76\n",
       "3     54\n",
       "Name: Recency, dtype: int64"
      ]
     },
     "execution_count": 9,
     "metadata": {},
     "output_type": "execute_result"
    }
   ],
   "source": [
    "df_new['Recency'].value_counts()"
   ]
  },
  {
   "cell_type": "code",
   "execution_count": 10,
   "metadata": {},
   "outputs": [
    {
     "name": "stderr",
     "output_type": "stream",
     "text": [
      "/opt/anaconda3/lib/python3.8/site-packages/seaborn/distributions.py:2551: FutureWarning: `distplot` is a deprecated function and will be removed in a future version. Please adapt your code to use either `displot` (a figure-level function with similar flexibility) or `histplot` (an axes-level function for histograms).\n",
      "  warnings.warn(msg, FutureWarning)\n"
     ]
    },
    {
     "name": "stdout",
     "output_type": "stream",
     "text": [
      "-0.6430317176546402\n"
     ]
    },
    {
     "data": {
      "image/png": "[encoded data removed]",
      "text/plain": [
       "<Figure size 432x288 with 1 Axes>"
      ]
     },
     "metadata": {
      "needs_background": "light"
     },
     "output_type": "display_data"
    }
   ],
   "source": [
    "import seaborn as sns\n",
    "sns.distplot(df_new['Recency'],hist=True,kde=True)\n",
    "print(df_new['Recency'].skew())"
   ]
  },
  {
   "cell_type": "code",
   "execution_count": 11,
   "metadata": {},
   "outputs": [
    {
     "name": "stderr",
     "output_type": "stream",
     "text": [
      "/opt/anaconda3/lib/python3.8/site-packages/seaborn/distributions.py:2551: FutureWarning: `distplot` is a deprecated function and will be removed in a future version. Please adapt your code to use either `displot` (a figure-level function with similar flexibility) or `histplot` (an axes-level function for histograms).\n",
      "  warnings.warn(msg, FutureWarning)\n"
     ]
    },
    {
     "name": "stdout",
     "output_type": "stream",
     "text": [
      "3.793093228397655\n"
     ]
    },
    {
     "data": {
      "image/png": "[encoded data removed]",
      "text/plain": [
       "<Figure size 432x288 with 1 Axes>"
      ]
     },
     "metadata": {
      "needs_background": "light"
     },
     "output_type": "display_data"
    }
   ],
   "source": [
    "sns.distplot(df_new['Frequency'],hist=True,kde=True)\n",
    "print(df_new['Frequency'].skew())"
   ]
  },
  {
   "cell_type": "code",
   "execution_count": 12,
   "metadata": {},
   "outputs": [
    {
     "name": "stderr",
     "output_type": "stream",
     "text": [
      "/opt/anaconda3/lib/python3.8/site-packages/seaborn/distributions.py:2551: FutureWarning: `distplot` is a deprecated function and will be removed in a future version. Please adapt your code to use either `displot` (a figure-level function with similar flexibility) or `histplot` (an axes-level function for histograms).\n",
      "  warnings.warn(msg, FutureWarning)\n"
     ]
    },
    {
     "name": "stdout",
     "output_type": "stream",
     "text": [
      "6.624695331427898\n"
     ]
    },
    {
     "data": {
      "image/png": "[encoded data removed]",
      "text/plain": [
       "<Figure size 432x288 with 1 Axes>"
      ]
     },
     "metadata": {
      "needs_background": "light"
     },
     "output_type": "display_data"
    }
   ],
   "source": [
    "sns.distplot(df_new['Monetary'],hist=True,kde=True)\n",
    "print(df_new['Monetary'].skew())"
   ]
  },
  {
   "cell_type": "code",
   "execution_count": 13,
   "metadata": {},
   "outputs": [
    {
     "name": "stdout",
     "output_type": "stream",
     "text": [
      "square_recency_skewness=-0.15614214525333336\n",
      "log_frequency_skewness=-0.42345134750578783\n",
      "log_monetary_skewness=0.4736925527734043\n"
     ]
    },
    {
     "name": "stderr",
     "output_type": "stream",
     "text": [
      "/opt/anaconda3/lib/python3.8/site-packages/pandas/core/series.py:726: RuntimeWarning: invalid value encountered in log\n",
      "  result = getattr(ufunc, method)(*inputs, **kwargs)\n"
     ]
    }
   ],
   "source": [
    "import numpy as np\n",
    "square_recency = np.square(df_new['Recency'])\n",
    "log_freq = np.log(df_new['Frequency'])\n",
    "log_mon= np.log(df_new['Monetary'])\n",
    "print(f'square_recency_skewness={square_recency.skew()}')\n",
    "print(f'log_frequency_skewness={log_freq.skew()}')\n",
    "print(f'log_monetary_skewness={log_mon.skew()}')"
   ]
  },
  {
   "cell_type": "code",
   "execution_count": 14,
   "metadata": {},
   "outputs": [
    {
     "name": "stderr",
     "output_type": "stream",
     "text": [
      "/opt/anaconda3/lib/python3.8/site-packages/seaborn/distributions.py:2551: FutureWarning: `distplot` is a deprecated function and will be removed in a future version. Please adapt your code to use either `displot` (a figure-level function with similar flexibility) or `histplot` (an axes-level function for histograms).\n",
      "  warnings.warn(msg, FutureWarning)\n",
      "/opt/anaconda3/lib/python3.8/site-packages/seaborn/distributions.py:2551: FutureWarning: `distplot` is a deprecated function and will be removed in a future version. Please adapt your code to use either `displot` (a figure-level function with similar flexibility) or `histplot` (an axes-level function for histograms).\n",
      "  warnings.warn(msg, FutureWarning)\n",
      "/opt/anaconda3/lib/python3.8/site-packages/seaborn/distributions.py:2551: FutureWarning: `distplot` is a deprecated function and will be removed in a future version. Please adapt your code to use either `displot` (a figure-level function with similar flexibility) or `histplot` (an axes-level function for histograms).\n",
      "  warnings.warn(msg, FutureWarning)\n"
     ]
    },
    {
     "data": {
      "text/plain": [
       "<AxesSubplot:xlabel='Monetary', ylabel='Density'>"
      ]
     },
     "execution_count": 14,
     "metadata": {},
     "output_type": "execute_result"
    },
    {
     "data": {
      "image/png": "[encoded data removed]",
      "text/plain": [
       "<Figure size 504x504 with 3 Axes>"
      ]
     },
     "metadata": {
      "needs_background": "light"
     },
     "output_type": "display_data"
    }
   ],
   "source": [
    "f, axes = plt.subplots(3, 1, figsize=(7, 7))\n",
    "sns.distplot( square_recency , color=\"skyblue\", ax=axes[0])\n",
    "sns.distplot( log_freq , color=\"skyblue\", ax=axes[1])\n",
    "sns.distplot( log_mon , color=\"skyblue\", ax=axes[2])"
   ]
  },
  {
   "cell_type": "code",
   "execution_count": 15,
   "metadata": {},
   "outputs": [
    {
     "data": {
      "text/plain": [
       "array([[-0.25938748, -0.41619395, -0.12422723],\n",
       "       [-0.25938748, -0.48633777, -0.17628426],\n",
       "       [ 1.102924  , -0.34605012, -0.10937998],\n",
       "       [ 1.102924  ,  1.72319278,  1.79802122],\n",
       "       [ 0.42176826, -0.80198499, -0.56793395],\n",
       "       [-1.62169895,  2.10898382,  1.29683181],\n",
       "       [-0.25938748, -0.66169734,  0.21047745],\n",
       "       [-1.62169895,  1.37247364,  1.31872998],\n",
       "       [ 1.102924  , -0.13561864,  0.4986974 ],\n",
       "       [-0.25938748, -0.76691308, -0.45367733]])"
      ]
     },
     "execution_count": 15,
     "metadata": {},
     "output_type": "execute_result"
    }
   ],
   "source": [
    "#scaling\n",
    "from sklearn.preprocessing import StandardScaler\n",
    "scaler = StandardScaler()\n",
    "scaler.fit(df_new)\n",
    "df_normalized = scaler.transform(df_new)\n",
    "df_normalized[0:10]"
   ]
  },
  {
   "cell_type": "code",
   "execution_count": 16,
   "metadata": {},
   "outputs": [
    {
     "data": {
      "text/plain": [
       "Text(0.5, 1.0, 'Elbow curve (Inertia)')"
      ]
     },
     "execution_count": 16,
     "metadata": {},
     "output_type": "execute_result"
    },
    {
     "data": {
      "image/png": "[encoded data removed]",
      "text/plain": [
       "<Figure size 1080x360 with 1 Axes>"
      ]
     },
     "metadata": {
      "needs_background": "light"
     },
     "output_type": "display_data"
    }
   ],
   "source": [
    "from sklearn.cluster import KMeans\n",
    "\n",
    "distorsions = []\n",
    "for k in range(2, 20):\n",
    "    kmeans = KMeans(n_clusters=k)\n",
    "    kmeans.fit(df_normalized)\n",
    "    distorsions.append(kmeans.inertia_)\n",
    "    \n",
    "\n",
    "fig = plt.figure(figsize=(15, 5))\n",
    "plt.plot(range(2, 20), distorsions)\n",
    "plt.grid(True)\n",
    "#sum of squared distances\n",
    "plt.title('Elbow curve (Inertia)')"
   ]
  },
  {
   "cell_type": "code",
   "execution_count": 17,
   "metadata": {},
   "outputs": [
    {
     "data": {
      "text/plain": [
       "array([3, 3, 0, 5, 3, 2, 3, 2, 0, 3, 1, 0, 3, 3, 3, 1, 3, 3, 1, 2, 1, 3,\n",
       "       0, 3, 5, 1, 3, 0, 3, 0, 0, 7, 3, 3, 2, 1, 0, 0, 1, 2, 1, 3, 0, 3,\n",
       "       3, 3, 3, 2, 0, 1, 3, 3, 5, 3, 7, 3, 0, 0, 3, 1, 3, 0, 1, 0, 0, 3,\n",
       "       0, 0, 0, 1, 4, 3, 1, 1, 7, 3, 0, 7, 0, 3, 3, 0, 2, 5, 3, 3, 0, 3,\n",
       "       1, 3, 3, 3, 3, 0, 3, 5, 3, 3, 3, 3, 1, 3, 5, 3, 3, 0, 1, 1, 5, 3,\n",
       "       3, 0, 2, 3, 3, 7, 0, 0, 5, 5, 3, 3, 3, 1, 1, 1, 3, 0, 3, 3, 3, 2,\n",
       "       5, 1, 1, 4, 3, 3, 0, 3, 3, 0, 1, 1, 3, 3, 0, 7, 2, 1, 0, 1, 3, 3,\n",
       "       3, 2, 1, 0, 1, 0, 5, 3, 3, 1, 1, 5, 5, 0, 3, 3, 3, 3, 1, 1, 3, 3,\n",
       "       3, 3, 2, 3, 3, 3, 3, 5, 1, 2, 2, 1, 3, 3, 1, 3, 0, 7, 7, 1, 3, 0,\n",
       "       0, 3, 1, 3, 1, 3, 3, 7, 0, 1, 5, 0, 5, 2, 1, 1, 1, 1, 1, 3, 0, 3,\n",
       "       3, 0, 3, 0, 0, 3, 1, 3, 3, 7, 3, 3, 1, 0, 1, 3, 5, 3, 5, 3, 0, 1,\n",
       "       0, 1, 3, 3, 0, 1, 2, 1, 0, 3, 0, 5, 1, 3, 3, 5, 1, 3, 0, 0, 7, 3,\n",
       "       1, 3, 0, 3, 7, 3, 0, 3, 3, 0, 5, 0, 3, 3, 0, 3, 3, 0, 3, 1, 3, 7,\n",
       "       3, 3, 2, 6, 3, 1, 1, 0, 3, 0, 0, 5, 5, 3, 3, 7, 0, 3, 3, 3, 1, 5,\n",
       "       5, 5, 0, 5, 1, 0, 0, 1, 2, 0, 1, 3, 3, 0, 3], dtype=int32)"
      ]
     },
     "execution_count": 17,
     "metadata": {},
     "output_type": "execute_result"
    }
   ],
   "source": [
    "kmeans = KMeans(n_clusters=8)\n",
    "kmeans.fit(df_normalized)\n",
    "kmeans.labels_"
   ]
  },
  {
   "cell_type": "code",
   "execution_count": 18,
   "metadata": {},
   "outputs": [
    {
     "data": {
      "text/html": [
       "<div>\n",
       "<style scoped>\n",
       "    .dataframe tbody tr th:only-of-type {\n",
       "        vertical-align: middle;\n",
       "    }\n",
       "\n",
       "    .dataframe tbody tr th {\n",
       "        vertical-align: top;\n",
       "    }\n",
       "\n",
       "    .dataframe thead th {\n",
       "        text-align: right;\n",
       "    }\n",
       "</style>\n",
       "<table border=\"1\" class=\"dataframe\">\n",
       "  <thead>\n",
       "    <tr style=\"text-align: right;\">\n",
       "      <th></th>\n",
       "      <th>Mean Recency</th>\n",
       "      <th>Mean Frequency</th>\n",
       "      <th>Mean Monetary Value</th>\n",
       "    </tr>\n",
       "    <tr>\n",
       "      <th>rfm_group</th>\n",
       "      <th></th>\n",
       "      <th></th>\n",
       "      <th></th>\n",
       "    </tr>\n",
       "  </thead>\n",
       "  <tbody>\n",
       "    <tr>\n",
       "      <th>0</th>\n",
       "      <td>5.000000</td>\n",
       "      <td>12.691176</td>\n",
       "      <td>300.035294</td>\n",
       "    </tr>\n",
       "    <tr>\n",
       "      <th>1</th>\n",
       "      <td>1.000000</td>\n",
       "      <td>24.306452</td>\n",
       "      <td>354.692903</td>\n",
       "    </tr>\n",
       "    <tr>\n",
       "      <th>2</th>\n",
       "      <td>1.444444</td>\n",
       "      <td>85.888889</td>\n",
       "      <td>942.310556</td>\n",
       "    </tr>\n",
       "    <tr>\n",
       "      <th>3</th>\n",
       "      <td>3.725191</td>\n",
       "      <td>11.770992</td>\n",
       "      <td>205.581756</td>\n",
       "    </tr>\n",
       "    <tr>\n",
       "      <th>4</th>\n",
       "      <td>4.500000</td>\n",
       "      <td>53.000000</td>\n",
       "      <td>7996.250000</td>\n",
       "    </tr>\n",
       "    <tr>\n",
       "      <th>5</th>\n",
       "      <td>4.148148</td>\n",
       "      <td>62.481481</td>\n",
       "      <td>465.278148</td>\n",
       "    </tr>\n",
       "    <tr>\n",
       "      <th>6</th>\n",
       "      <td>4.000000</td>\n",
       "      <td>297.000000</td>\n",
       "      <td>5391.210000</td>\n",
       "    </tr>\n",
       "    <tr>\n",
       "      <th>7</th>\n",
       "      <td>3.642857</td>\n",
       "      <td>11.500000</td>\n",
       "      <td>1742.419286</td>\n",
       "    </tr>\n",
       "  </tbody>\n",
       "</table>\n",
       "</div>"
      ],
      "text/plain": [
       "           Mean Recency  Mean Frequency  Mean Monetary Value\n",
       "rfm_group                                                   \n",
       "0              5.000000       12.691176           300.035294\n",
       "1              1.000000       24.306452           354.692903\n",
       "2              1.444444       85.888889           942.310556\n",
       "3              3.725191       11.770992           205.581756\n",
       "4              4.500000       53.000000          7996.250000\n",
       "5              4.148148       62.481481           465.278148\n",
       "6              4.000000      297.000000          5391.210000\n",
       "7              3.642857       11.500000          1742.419286"
      ]
     },
     "execution_count": 18,
     "metadata": {},
     "output_type": "execute_result"
    }
   ],
   "source": [
    "df_new['rfm_group'] = kmeans.labels_\n",
    "df_mean = df_new.groupby(by='rfm_group').agg({'Recency':'mean',\n",
    "    'Frequency':'mean',\n",
    "    'Monetary':'mean'})\n",
    "df_mean.columns = ['Mean Recency','Mean Frequency', 'Mean Monetary Value']\n",
    "df_mean"
   ]
  },
  {
   "cell_type": "code",
   "execution_count": 92,
   "metadata": {},
   "outputs": [],
   "source": [
    "plt.rcParams[\"figure.figsize\"] = (10,10)\n",
    "# plt.scatter(df_new['Monetary'],df_new['Frequency'],c=kmeans.labels_)\n",
    "# plt.xlabel('Monetary Value($)',fontsize=18)\n",
    "# plt.ylabel('Frequency',fontsize=18)\n",
    "\n",
    "# plt.legend()"
   ]
  },
  {
   "cell_type": "code",
   "execution_count": 94,
   "metadata": {},
   "outputs": [
    {
     "data": {
      "image/png": "[encoded data removed]",
      "text/plain": [
       "<Figure size 720x720 with 1 Axes>"
      ]
     },
     "metadata": {
      "needs_background": "light"
     },
     "output_type": "display_data"
    }
   ],
   "source": [
    "plt.scatter(df_new.loc[df_new['rfm_group'] ==0, ['Monetary']],\n",
    "           df_new.loc[df_new['rfm_group'] ==0, ['Frequency']],\n",
    "            c='lightgreen', marker='s',edgecolor='black', label='RFM Group 0',s=100)\n",
    "plt.scatter(df_new.loc[df_new['rfm_group'] ==1, ['Monetary']],\n",
    "           df_new.loc[df_new['rfm_group'] ==1, ['Frequency']],\n",
    "            c='darkblue', marker='o',edgecolor='black', label='RFM Group 1',s=100)\n",
    "plt.scatter(df_new.loc[df_new['rfm_group'] ==2, ['Monetary']],\n",
    "           df_new.loc[df_new['rfm_group'] ==2, ['Frequency']],\n",
    "            c='darkred', marker='x',edgecolor='red', label='RFM Group 2',s=100)\n",
    "plt.scatter(df_new.loc[df_new['rfm_group'] ==3, ['Monetary']],\n",
    "           df_new.loc[df_new['rfm_group'] ==3, ['Frequency']],\n",
    "            c='darkorange', marker='p',edgecolor='orange', label='RFM Group 3',s=100)\n",
    "\n",
    "plt.scatter(df_new.loc[df_new['rfm_group'] ==4, ['Monetary']],\n",
    "           df_new.loc[df_new['rfm_group'] ==4, ['Frequency']],\n",
    "            c='darkviolet', marker='X',edgecolor='orange', label='RFM Group 4',s=100)\n",
    "plt.scatter(df_new.loc[df_new['rfm_group'] ==5, ['Monetary']],\n",
    "           df_new.loc[df_new['rfm_group'] ==5, ['Frequency']],\n",
    "            c='yellow', marker='D',edgecolor='orange', label='RFM Group 5',s=100)\n",
    "\n",
    "plt.scatter(df_new.loc[df_new['rfm_group'] ==6, ['Monetary']],\n",
    "           df_new.loc[df_new['rfm_group'] ==6, ['Frequency']],\n",
    "            c='darkmagenta', marker='4',edgecolor='orange', label='RFM Group 6',s=150)\n",
    "plt.scatter(df_new.loc[df_new['rfm_group'] ==7, ['Monetary']],\n",
    "           df_new.loc[df_new['rfm_group'] ==7, ['Frequency']],\n",
    "            c='darkcyan', marker='v',edgecolor='orange', label='RFM Group 7',s=100)\n",
    "plt.xlabel('Monetary Value($)',fontsize=18)\n",
    "plt.ylabel('Frequency',fontsize=18)\n",
    "plt.legend()\n",
    "plt.show()\n",
    "plt.savefig('RFM.png')\n",
    "plt.close()"
   ]
  },
  {
   "cell_type": "code",
   "execution_count": null,
   "metadata": {},
   "outputs": [],
   "source": []
  }
 ],
 "metadata": {
  "kernelspec": {
   "display_name": "Python 3",
   "language": "python",
   "name": "python3"
  },
  "language_info": {
   "codemirror_mode": {
    "name": "ipython",
    "version": 3
   },
   "file_extension": ".py",
   "mimetype": "text/x-python",
   "name": "python",
   "nbconvert_exporter": "python",
   "pygments_lexer": "ipython3",
   "version": "3.8.5"
  }
 },
 "nbformat": 4,
 "nbformat_minor": 4
}
